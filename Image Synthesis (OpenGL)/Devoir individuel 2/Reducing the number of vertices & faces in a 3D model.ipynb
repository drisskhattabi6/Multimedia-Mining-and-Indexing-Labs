{
 "cells": [
  {
   "cell_type": "markdown",
   "id": "4c504f5d-561e-46aa-b041-e45a1dbd79d7",
   "metadata": {},
   "source": [
    "# Reducing the number of vertices/faces in a 3D model :"
   ]
  },
  {
   "cell_type": "code",
   "execution_count": 1,
   "id": "c3a9409d-21b3-4fd3-93e0-e8466ae66cd2",
   "metadata": {
    "tags": []
   },
   "outputs": [],
   "source": [
    "# Import Libraries\n",
    "import numpy as np\n",
    "import time\n",
    "from OpenGL.GL import *\n",
    "from OpenGL.GLUT import *\n",
    "from OpenGL.GLU import *"
   ]
  },
  {
   "cell_type": "markdown",
   "id": "79f3952f-1aee-4330-803c-ea413a7f04bf",
   "metadata": {},
   "source": [
    "## 1. Decode an .obj file"
   ]
  },
  {
   "cell_type": "code",
   "execution_count": 2,
   "id": "eaa1603a-5cdd-47cf-8479-cc52ea5703be",
   "metadata": {},
   "outputs": [],
   "source": [
    "class ObjModel:\n",
    "    def __init__(self, vertices=None, faces=None, normals=None, textures=None):\n",
    "        self.vertices = vertices or []  # List of tuples (x, y, z)\n",
    "        self.faces = faces or []  # List of faces (vertex indices)\n",
    "        self.normals = normals or []  # List of normals\n",
    "        self.textures = textures or []  # List of texture coordinates\n",
    "\n",
    "    def load(self, filename):\n",
    "        with open(filename, 'r') as file:\n",
    "            for line in file:\n",
    "                parts = line.split()\n",
    "                if not parts:\n",
    "                    continue\n",
    "                if parts[0] == 'v':\n",
    "                    self.vertices.append(tuple(map(float, parts[1:4])))\n",
    "                elif parts[0] == 'f':\n",
    "                    self.faces.append([int(i.split('/')[0]) - 1 for i in parts[1:]])\n",
    "                elif parts[0] == 'vn':\n",
    "                    self.normals.append(tuple(map(float, parts[1:4])))\n",
    "                elif parts[0] == 'vt':\n",
    "                    self.textures.append(tuple(map(float, parts[1:3])))\n",
    "\n",
    "    def __str__(self):\n",
    "        return f\"Vertices: {len(self.vertices)}, Faces: {len(self.faces)}\""
   ]
  },
  {
   "cell_type": "markdown",
   "id": "1e5a53af-0d9f-440c-89f6-1e1fbfa9afeb",
   "metadata": {},
   "source": [
    "## 2. Implementing Mesh Reduction Algorithms :\n",
    "### a. Vertex Clustering"
   ]
  },
  {
   "cell_type": "code",
   "execution_count": 3,
   "id": "0779a807-f5fe-477f-8f45-24610d1b2e6b",
   "metadata": {},
   "outputs": [],
   "source": [
    "def vertex_clustering(model, grid_size):\n",
    "    min_vals = np.min(model.vertices, axis=0)\n",
    "    grid = {}\n",
    "    index_map = {}\n",
    "\n",
    "    for i, vertex in enumerate(model.vertices):\n",
    "        grid_pos = tuple(np.floor((np.array(vertex) - min_vals) / grid_size).astype(int))\n",
    "        if grid_pos not in grid:\n",
    "            grid[grid_pos] = []\n",
    "        grid[grid_pos].append(i)\n",
    "\n",
    "    new_vertices = []\n",
    "    for indices in grid.values():\n",
    "        centroid = np.mean([model.vertices[i] for i in indices], axis=0)\n",
    "        new_index = len(new_vertices)\n",
    "        new_vertices.append(centroid)\n",
    "        for idx in indices:\n",
    "            index_map[idx] = new_index\n",
    "\n",
    "    new_faces = []\n",
    "    for face in model.faces:\n",
    "        new_face = [index_map[v] for v in face]\n",
    "        if len(set(new_face)) == len(new_face):\n",
    "            new_faces.append(new_face)\n",
    "\n",
    "    return ObjModel(new_vertices, new_faces, model.normals, model.textures)"
   ]
  },
  {
   "cell_type": "markdown",
   "id": "6dee202d-0e6d-46e1-96c3-f0b80471f1f1",
   "metadata": {},
   "source": [
    "### b. Edge Collapse"
   ]
  },
  {
   "cell_type": "code",
   "execution_count": 4,
   "id": "5f2ff4a1-7fb7-45cd-9b96-314d2ae1d902",
   "metadata": {},
   "outputs": [],
   "source": [
    "def edge_collapse(model, threshold):\n",
    "    vertices = np.array(model.vertices)\n",
    "    edges = {}\n",
    "\n",
    "    for face in model.faces:\n",
    "        for i in range(len(face)):\n",
    "            v1, v2 = sorted((face[i], face[(i + 1) % len(face)]))\n",
    "            edges[(v1, v2)] = np.linalg.norm(vertices[v1] - vertices[v2])\n",
    "\n",
    "    sorted_edges = sorted(edges.items(), key=lambda x: x[1])\n",
    "\n",
    "    collapsed = set()\n",
    "    for (v1, v2), length in sorted_edges:\n",
    "        if length > threshold:\n",
    "            break\n",
    "        if v1 in collapsed or v2 in collapsed:\n",
    "            continue\n",
    "        vertices[v1] = (vertices[v1] + vertices[v2]) / 2\n",
    "        collapsed.add(v2)\n",
    "\n",
    "    new_faces = []\n",
    "    for face in model.faces:\n",
    "        new_face = [v for v in face if v not in collapsed]\n",
    "        if len(new_face) == 3:\n",
    "            new_faces.append(new_face)\n",
    "\n",
    "    return ObjModel(vertices.tolist(), new_faces, model.normals, model.textures)"
   ]
  },
  {
   "cell_type": "markdown",
   "id": "8fa1a2a9-bd32-43d8-9275-dba901f5d41c",
   "metadata": {},
   "source": [
    "## 3. Save the resulting object in a new .obj file"
   ]
  },
  {
   "cell_type": "code",
   "execution_count": 5,
   "id": "d7f5018d-899e-4dde-b7f2-1ae829a206c6",
   "metadata": {},
   "outputs": [],
   "source": [
    "def save_obj(model, filename):\n",
    "    with open(filename, 'w') as file:\n",
    "        for vertex in model.vertices:\n",
    "            file.write(f\"v {' '.join(map(str, vertex))}\\n\")\n",
    "        for face in model.faces:\n",
    "            file.write(f\"f {' '.join(str(idx + 1) for idx in face)}\\n\")"
   ]
  },
  {
   "cell_type": "code",
   "execution_count": 6,
   "id": "39668896-29f6-4dd6-945f-deac7e4b0a92",
   "metadata": {
    "tags": []
   },
   "outputs": [
    {
     "name": "stdout",
     "output_type": "stream",
     "text": [
      "/////////// OBJ1 ////////////\n",
      "--- Original Model ---\n",
      "Vertices: 1369, Faces: 2734\n",
      "--- Vertex Clustering ---\n",
      "Vertices: 1259, Faces: 2514 | Time: 0.03s\n",
      "--- Edge Collapse ---\n",
      "Vertices: 1369, Faces: 2102 | Time: 0.08s\n",
      "\n",
      "/////////// OBJ2 ////////////\n",
      "--- Original Model ---\n",
      "Vertices: 10505, Faces: 20822\n",
      "--- Vertex Clustering ---\n",
      "Vertices: 752, Faces: 1613 | Time: 0.09s\n",
      "--- Edge Collapse ---\n",
      "Vertices: 10505, Faces: 0 | Time: 0.37s\n",
      "\n",
      "/////////// OBJ3 ////////////\n",
      "--- Original Model ---\n",
      "Vertices: 2165, Faces: 4438\n",
      "--- Vertex Clustering ---\n",
      "Vertices: 1452, Faces: 2910 | Time: 0.04s\n",
      "--- Edge Collapse ---\n",
      "Vertices: 2165, Faces: 1574 | Time: 0.07s\n",
      "\n",
      "/////////// OBJ4 ////////////\n",
      "--- Original Model ---\n",
      "Vertices: 17403, Faces: 34643\n",
      "--- Vertex Clustering ---\n",
      "Vertices: 451, Faces: 988 | Time: 0.14s\n",
      "--- Edge Collapse ---\n",
      "Vertices: 17403, Faces: 0 | Time: 0.58s\n",
      "\n",
      "/////////// OBJ5 ////////////\n",
      "--- Original Model ---\n",
      "Vertices: 1932, Faces: 3824\n",
      "--- Vertex Clustering ---\n",
      "Vertices: 1932, Faces: 3824 | Time: 0.04s\n",
      "--- Edge Collapse ---\n",
      "Vertices: 1932, Faces: 3824 | Time: 0.06s\n",
      "\n",
      "/////////// OBJ6 ////////////\n",
      "--- Original Model ---\n",
      "Vertices: 327323, Faces: 654666\n",
      "--- Vertex Clustering ---\n",
      "Vertices: 404, Faces: 980 | Time: 2.39s\n",
      "--- Edge Collapse ---\n",
      "Vertices: 327323, Faces: 0 | Time: 12.57s\n",
      "\n"
     ]
    }
   ],
   "source": [
    "# Directory and processing\n",
    "for i in range(1, 7):\n",
    "    filename = f\"DVI2/obj{i}.obj\"\n",
    "    model = ObjModel()\n",
    "    model.load(filename)\n",
    "\n",
    "    grid_size = 0.1\n",
    "    threshold = 0.1\n",
    "\n",
    "    # Original model\n",
    "    print(f\"/////////// OBJ{i} ////////////\")\n",
    "    print(\"--- Original Model ---\")\n",
    "    print(str(model))\n",
    "\n",
    "    # Vertex Clustering\n",
    "    start_time = time.time()\n",
    "    vc_model = vertex_clustering(model, grid_size)\n",
    "    vc_time = time.time() - start_time\n",
    "    save_obj(vc_model, f\"DVI1/obj{i}_vertex_clustering.obj\")\n",
    "    print(\"--- Vertex Clustering ---\")\n",
    "    print(f\"{str(vc_model)} | Time: {vc_time:.2f}s\")\n",
    "\n",
    "    # Edge Collapse\n",
    "    start_time = time.time()\n",
    "    ec_model = edge_collapse(model, threshold)\n",
    "    ec_time = time.time() - start_time\n",
    "    save_obj(ec_model, f\"DVI1/obj{i}_edge_collapse.obj\")\n",
    "    print(\"--- Edge Collapse ---\")\n",
    "    print(f\"{str(ec_model)} | Time: {ec_time:.2f}s\\n\")"
   ]
  }
 ],
 "metadata": {
  "kernelspec": {
   "display_name": "Python 3 (ipykernel)",
   "language": "python",
   "name": "python3"
  },
  "language_info": {
   "codemirror_mode": {
    "name": "ipython",
    "version": 3
   },
   "file_extension": ".py",
   "mimetype": "text/x-python",
   "name": "python",
   "nbconvert_exporter": "python",
   "pygments_lexer": "ipython3",
   "version": "3.12.4"
  }
 },
 "nbformat": 4,
 "nbformat_minor": 5
}
